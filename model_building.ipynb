{
 "cells": [
  {
   "cell_type": "markdown",
   "id": "41df5568-4597-420b-943e-7a947c0a447d",
   "metadata": {},
   "source": [
    "## importing libraries"
   ]
  },
  {
   "cell_type": "code",
   "execution_count": 1,
   "id": "21f03ddc-4248-4f19-b84f-13904b9a9202",
   "metadata": {},
   "outputs": [],
   "source": [
    "import pandas as pd\n",
    "import numpy as np\n",
    "\n",
    "import pickle\n",
    "\n",
    "from sklearn.feature_extraction.text import CountVectorizer\n",
    "from sklearn.model_selection import train_test_split\n",
    "from sklearn.naive_bayes import MultinomialNB\n",
    "from sklearn.metrics import confusion_matrix, accuracy_score"
   ]
  },
  {
   "cell_type": "markdown",
   "id": "296377e7-f018-4bcc-8b3f-26ca598ba449",
   "metadata": {},
   "source": [
    "## fetching the data"
   ]
  },
  {
   "cell_type": "code",
   "execution_count": 2,
   "id": "96fdc6f9-7e08-43cf-806b-544df45b2c38",
   "metadata": {},
   "outputs": [
    {
     "data": {
      "text/html": [
       "<div>\n",
       "<style scoped>\n",
       "    .dataframe tbody tr th:only-of-type {\n",
       "        vertical-align: middle;\n",
       "    }\n",
       "\n",
       "    .dataframe tbody tr th {\n",
       "        vertical-align: top;\n",
       "    }\n",
       "\n",
       "    .dataframe thead th {\n",
       "        text-align: right;\n",
       "    }\n",
       "</style>\n",
       "<table border=\"1\" class=\"dataframe\">\n",
       "  <thead>\n",
       "    <tr style=\"text-align: right;\">\n",
       "      <th></th>\n",
       "      <th>Unnamed: 0.1</th>\n",
       "      <th>Rating</th>\n",
       "      <th>Title</th>\n",
       "      <th>Review</th>\n",
       "      <th>stemmed_content</th>\n",
       "    </tr>\n",
       "  </thead>\n",
       "  <tbody>\n",
       "    <tr>\n",
       "      <th>0</th>\n",
       "      <td>0</td>\n",
       "      <td>4</td>\n",
       "      <td>Raspberries are Magic</td>\n",
       "      <td>Excellent family film for all ages! You can't ...</td>\n",
       "      <td>excel famili film age find mani good movi fami...</td>\n",
       "    </tr>\n",
       "    <tr>\n",
       "      <th>1</th>\n",
       "      <td>1</td>\n",
       "      <td>1</td>\n",
       "      <td>Road Warrior defeated in less than 1 year</td>\n",
       "      <td>I bought this battery for my wife's cell phone...</td>\n",
       "      <td>bought batteri wife cell phone last christma l...</td>\n",
       "    </tr>\n",
       "    <tr>\n",
       "      <th>2</th>\n",
       "      <td>2</td>\n",
       "      <td>5</td>\n",
       "      <td>Excellent advice, and very well written</td>\n",
       "      <td>I've read this book cover-to-cover twice as I ...</td>\n",
       "      <td>read book cover cover twice prepar law school ...</td>\n",
       "    </tr>\n",
       "    <tr>\n",
       "      <th>3</th>\n",
       "      <td>3</td>\n",
       "      <td>1</td>\n",
       "      <td>Horrible, Horrible, Horrible!</td>\n",
       "      <td>The dialogue is so bad that you will feel dumb...</td>\n",
       "      <td>dialogu bad feel dumber read book ever write d...</td>\n",
       "    </tr>\n",
       "    <tr>\n",
       "      <th>4</th>\n",
       "      <td>4</td>\n",
       "      <td>1</td>\n",
       "      <td>Don't get ripped off</td>\n",
       "      <td>Well...I have only one thing to say about this...</td>\n",
       "      <td>well one thing say soundtrack select whoever c...</td>\n",
       "    </tr>\n",
       "  </tbody>\n",
       "</table>\n",
       "</div>"
      ],
      "text/plain": [
       "   Unnamed: 0.1  Rating                                      Title  \\\n",
       "0             0       4                      Raspberries are Magic   \n",
       "1             1       1  Road Warrior defeated in less than 1 year   \n",
       "2             2       5    Excellent advice, and very well written   \n",
       "3             3       1              Horrible, Horrible, Horrible!   \n",
       "4             4       1                       Don't get ripped off   \n",
       "\n",
       "                                              Review  \\\n",
       "0  Excellent family film for all ages! You can't ...   \n",
       "1  I bought this battery for my wife's cell phone...   \n",
       "2  I've read this book cover-to-cover twice as I ...   \n",
       "3  The dialogue is so bad that you will feel dumb...   \n",
       "4  Well...I have only one thing to say about this...   \n",
       "\n",
       "                                     stemmed_content  \n",
       "0  excel famili film age find mani good movi fami...  \n",
       "1  bought batteri wife cell phone last christma l...  \n",
       "2  read book cover cover twice prepar law school ...  \n",
       "3  dialogu bad feel dumber read book ever write d...  \n",
       "4  well one thing say soundtrack select whoever c...  "
      ]
     },
     "execution_count": 2,
     "metadata": {},
     "output_type": "execute_result"
    }
   ],
   "source": [
    "df = pd.read_csv('clean_reviews_data_50k.csv')\n",
    "df.head()"
   ]
  },
  {
   "cell_type": "markdown",
   "id": "537c1974-9867-408a-bb2f-d440e38f5ef8",
   "metadata": {},
   "source": [
    "## machine learning"
   ]
  },
  {
   "cell_type": "markdown",
   "id": "66cf8861-1b0d-4612-80fe-a897c2a0ef39",
   "metadata": {},
   "source": [
    "#### putting the reviews inside a bag of words"
   ]
  },
  {
   "cell_type": "code",
   "execution_count": 3,
   "id": "c31e9333-3de1-48ea-af42-373fa48f48a6",
   "metadata": {},
   "outputs": [],
   "source": [
    "cv = CountVectorizer(encoding='UTF-8')\n",
    "bow = cv.fit_transform(df['stemmed_content'].values.astype('U')).astype('int8').toarray()"
   ]
  },
  {
   "cell_type": "markdown",
   "id": "c42e75f0-294e-46d1-95ec-f164f55e119c",
   "metadata": {},
   "source": [
    "#### splitting an x and a y"
   ]
  },
  {
   "cell_type": "code",
   "execution_count": 4,
   "id": "2f0ef4f3-b561-4ab3-9659-392cfeea0d9c",
   "metadata": {},
   "outputs": [],
   "source": [
    "x = pd.DataFrame(bow)\n",
    "y = df['Rating'].astype('int8')"
   ]
  },
  {
   "cell_type": "code",
   "execution_count": 5,
   "id": "5fd7c0dd-1e0c-4c6f-893d-58b251f8c2d4",
   "metadata": {},
   "outputs": [],
   "source": [
    "x_train, x_test, y_train, y_test = train_test_split(x, y)"
   ]
  },
  {
   "cell_type": "markdown",
   "id": "f1484c21-fb4f-4ebf-92e2-fcc3b5711af8",
   "metadata": {},
   "source": [
    "#### training the model"
   ]
  },
  {
   "cell_type": "code",
   "execution_count": 7,
   "id": "f6c20484-1915-4c54-9493-200c1d733333",
   "metadata": {},
   "outputs": [
    {
     "data": {
      "text/html": [
       "<style>#sk-container-id-1 {color: black;}#sk-container-id-1 pre{padding: 0;}#sk-container-id-1 div.sk-toggleable {background-color: white;}#sk-container-id-1 label.sk-toggleable__label {cursor: pointer;display: block;width: 100%;margin-bottom: 0;padding: 0.3em;box-sizing: border-box;text-align: center;}#sk-container-id-1 label.sk-toggleable__label-arrow:before {content: \"▸\";float: left;margin-right: 0.25em;color: #696969;}#sk-container-id-1 label.sk-toggleable__label-arrow:hover:before {color: black;}#sk-container-id-1 div.sk-estimator:hover label.sk-toggleable__label-arrow:before {color: black;}#sk-container-id-1 div.sk-toggleable__content {max-height: 0;max-width: 0;overflow: hidden;text-align: left;background-color: #f0f8ff;}#sk-container-id-1 div.sk-toggleable__content pre {margin: 0.2em;color: black;border-radius: 0.25em;background-color: #f0f8ff;}#sk-container-id-1 input.sk-toggleable__control:checked~div.sk-toggleable__content {max-height: 200px;max-width: 100%;overflow: auto;}#sk-container-id-1 input.sk-toggleable__control:checked~label.sk-toggleable__label-arrow:before {content: \"▾\";}#sk-container-id-1 div.sk-estimator input.sk-toggleable__control:checked~label.sk-toggleable__label {background-color: #d4ebff;}#sk-container-id-1 div.sk-label input.sk-toggleable__control:checked~label.sk-toggleable__label {background-color: #d4ebff;}#sk-container-id-1 input.sk-hidden--visually {border: 0;clip: rect(1px 1px 1px 1px);clip: rect(1px, 1px, 1px, 1px);height: 1px;margin: -1px;overflow: hidden;padding: 0;position: absolute;width: 1px;}#sk-container-id-1 div.sk-estimator {font-family: monospace;background-color: #f0f8ff;border: 1px dotted black;border-radius: 0.25em;box-sizing: border-box;margin-bottom: 0.5em;}#sk-container-id-1 div.sk-estimator:hover {background-color: #d4ebff;}#sk-container-id-1 div.sk-parallel-item::after {content: \"\";width: 100%;border-bottom: 1px solid gray;flex-grow: 1;}#sk-container-id-1 div.sk-label:hover label.sk-toggleable__label {background-color: #d4ebff;}#sk-container-id-1 div.sk-serial::before {content: \"\";position: absolute;border-left: 1px solid gray;box-sizing: border-box;top: 0;bottom: 0;left: 50%;z-index: 0;}#sk-container-id-1 div.sk-serial {display: flex;flex-direction: column;align-items: center;background-color: white;padding-right: 0.2em;padding-left: 0.2em;position: relative;}#sk-container-id-1 div.sk-item {position: relative;z-index: 1;}#sk-container-id-1 div.sk-parallel {display: flex;align-items: stretch;justify-content: center;background-color: white;position: relative;}#sk-container-id-1 div.sk-item::before, #sk-container-id-1 div.sk-parallel-item::before {content: \"\";position: absolute;border-left: 1px solid gray;box-sizing: border-box;top: 0;bottom: 0;left: 50%;z-index: -1;}#sk-container-id-1 div.sk-parallel-item {display: flex;flex-direction: column;z-index: 1;position: relative;background-color: white;}#sk-container-id-1 div.sk-parallel-item:first-child::after {align-self: flex-end;width: 50%;}#sk-container-id-1 div.sk-parallel-item:last-child::after {align-self: flex-start;width: 50%;}#sk-container-id-1 div.sk-parallel-item:only-child::after {width: 0;}#sk-container-id-1 div.sk-dashed-wrapped {border: 1px dashed gray;margin: 0 0.4em 0.5em 0.4em;box-sizing: border-box;padding-bottom: 0.4em;background-color: white;}#sk-container-id-1 div.sk-label label {font-family: monospace;font-weight: bold;display: inline-block;line-height: 1.2em;}#sk-container-id-1 div.sk-label-container {text-align: center;}#sk-container-id-1 div.sk-container {/* jupyter's `normalize.less` sets `[hidden] { display: none; }` but bootstrap.min.css set `[hidden] { display: none !important; }` so we also need the `!important` here to be able to override the default hidden behavior on the sphinx rendered scikit-learn.org. See: https://github.com/scikit-learn/scikit-learn/issues/21755 */display: inline-block !important;position: relative;}#sk-container-id-1 div.sk-text-repr-fallback {display: none;}</style><div id=\"sk-container-id-1\" class=\"sk-top-container\"><div class=\"sk-text-repr-fallback\"><pre>MultinomialNB()</pre><b>In a Jupyter environment, please rerun this cell to show the HTML representation or trust the notebook. <br />On GitHub, the HTML representation is unable to render, please try loading this page with nbviewer.org.</b></div><div class=\"sk-container\" hidden><div class=\"sk-item\"><div class=\"sk-estimator sk-toggleable\"><input class=\"sk-toggleable__control sk-hidden--visually\" id=\"sk-estimator-id-1\" type=\"checkbox\" checked><label for=\"sk-estimator-id-1\" class=\"sk-toggleable__label sk-toggleable__label-arrow\">MultinomialNB</label><div class=\"sk-toggleable__content\"><pre>MultinomialNB()</pre></div></div></div></div></div>"
      ],
      "text/plain": [
       "MultinomialNB()"
      ]
     },
     "execution_count": 7,
     "metadata": {},
     "output_type": "execute_result"
    }
   ],
   "source": [
    "nv = MultinomialNB()\n",
    "nv.fit(x_train.astype('int8'), y_train)"
   ]
  },
  {
   "cell_type": "markdown",
   "id": "56e11be3-99b7-48d2-a34a-bf4d20c72095",
   "metadata": {},
   "source": [
    "#### measuring metrics"
   ]
  },
  {
   "cell_type": "code",
   "execution_count": 8,
   "id": "61bdaa8a-33c2-4dc1-b22c-1845d7d3f142",
   "metadata": {},
   "outputs": [],
   "source": [
    "y_pred = nv.predict(x_test)"
   ]
  },
  {
   "cell_type": "code",
   "execution_count": 9,
   "id": "993e6e03-ba29-4758-8967-ac04cae9e515",
   "metadata": {},
   "outputs": [
    {
     "data": {
      "text/plain": [
       "array([[1422,  578,  220,  113,  127],\n",
       "       [ 670,  932,  567,  234,  155],\n",
       "       [ 416,  548,  738,  452,  228],\n",
       "       [ 217,  286,  580,  746,  685],\n",
       "       [ 227,  180,  262,  615, 1302]], dtype=int64)"
      ]
     },
     "execution_count": 9,
     "metadata": {},
     "output_type": "execute_result"
    }
   ],
   "source": [
    "confusion_matrix(y_test, y_pred)"
   ]
  },
  {
   "cell_type": "code",
   "execution_count": 10,
   "id": "b170e855-13e1-4550-9442-409ae57a41ac",
   "metadata": {},
   "outputs": [
    {
     "data": {
      "text/plain": [
       "0.4112"
      ]
     },
     "execution_count": 10,
     "metadata": {},
     "output_type": "execute_result"
    }
   ],
   "source": [
    "accuracy_score(y_test, y_pred)"
   ]
  },
  {
   "cell_type": "markdown",
   "id": "25986652-c3e5-4b72-a63a-ef934194a65d",
   "metadata": {},
   "source": [
    "#### saving the model"
   ]
  },
  {
   "cell_type": "code",
   "execution_count": 11,
   "id": "2e9dfa7a-d3c0-4072-8b33-368768cbd293",
   "metadata": {},
   "outputs": [],
   "source": [
    "with open('model.pkl', 'wb') as fout:\n",
    "    pickle.dump((cv, nv), fout)"
   ]
  }
 ],
 "metadata": {
  "kernelspec": {
   "display_name": "Python 3 (ipykernel)",
   "language": "python",
   "name": "python3"
  },
  "language_info": {
   "codemirror_mode": {
    "name": "ipython",
    "version": 3
   },
   "file_extension": ".py",
   "mimetype": "text/x-python",
   "name": "python",
   "nbconvert_exporter": "python",
   "pygments_lexer": "ipython3",
   "version": "3.11.5"
  }
 },
 "nbformat": 4,
 "nbformat_minor": 5
}
