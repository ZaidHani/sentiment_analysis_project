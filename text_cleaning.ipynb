{
 "cells": [
  {
   "cell_type": "code",
   "execution_count": 1,
   "id": "0374b570-2ec1-4f47-a298-ad95a586f87c",
   "metadata": {},
   "outputs": [],
   "source": [
    "# the data\n",
    "# https://www.kaggle.com/datasets/bittlingmayer/amazonreviews"
   ]
  },
  {
   "cell_type": "markdown",
   "id": "41df5568-4597-420b-943e-7a947c0a447d",
   "metadata": {},
   "source": [
    "## importing libraries"
   ]
  },
  {
   "cell_type": "code",
   "execution_count": 2,
   "id": "21f03ddc-4248-4f19-b84f-13904b9a9202",
   "metadata": {},
   "outputs": [],
   "source": [
    "import pandas as pd\n",
    "import numpy as np\n",
    "import seaborn as sns\n",
    "import matplotlib.pyplot as plt\n",
    "\n",
    "import random\n",
    "import re\n",
    "import string\n",
    "import pickle\n",
    "\n",
    "from nltk.corpus import stopwords\n",
    "import nltk\n",
    "from nltk.stem import SnowballStemmer"
   ]
  },
  {
   "cell_type": "markdown",
   "id": "296377e7-f018-4bcc-8b3f-26ca598ba449",
   "metadata": {},
   "source": [
    "## fetching the data"
   ]
  },
  {
   "cell_type": "code",
   "execution_count": 3,
   "id": "96fdc6f9-7e08-43cf-806b-544df45b2c38",
   "metadata": {},
   "outputs": [],
   "source": [
    "df = pd.read_csv('amazon_reviews_50k.csv')\n",
    "df = df.drop('Unnamed: 0', axis=1)"
   ]
  },
  {
   "cell_type": "markdown",
   "id": "1b7f637e-a257-49fb-9369-ddd083c2594d",
   "metadata": {},
   "source": [
    "#### some info about the data"
   ]
  },
  {
   "cell_type": "code",
   "execution_count": 4,
   "id": "a027367e-9ba3-4681-957d-3cba6429919e",
   "metadata": {},
   "outputs": [
    {
     "data": {
      "text/html": [
       "<div>\n",
       "<style scoped>\n",
       "    .dataframe tbody tr th:only-of-type {\n",
       "        vertical-align: middle;\n",
       "    }\n",
       "\n",
       "    .dataframe tbody tr th {\n",
       "        vertical-align: top;\n",
       "    }\n",
       "\n",
       "    .dataframe thead th {\n",
       "        text-align: right;\n",
       "    }\n",
       "</style>\n",
       "<table border=\"1\" class=\"dataframe\">\n",
       "  <thead>\n",
       "    <tr style=\"text-align: right;\">\n",
       "      <th></th>\n",
       "      <th>Unnamed: 0.1</th>\n",
       "      <th>Rating</th>\n",
       "      <th>Title</th>\n",
       "      <th>Review</th>\n",
       "    </tr>\n",
       "  </thead>\n",
       "  <tbody>\n",
       "    <tr>\n",
       "      <th>0</th>\n",
       "      <td>0</td>\n",
       "      <td>4</td>\n",
       "      <td>Raspberries are Magic</td>\n",
       "      <td>Excellent family film for all ages! You can't ...</td>\n",
       "    </tr>\n",
       "    <tr>\n",
       "      <th>1</th>\n",
       "      <td>1</td>\n",
       "      <td>1</td>\n",
       "      <td>Road Warrior defeated in less than 1 year</td>\n",
       "      <td>I bought this battery for my wife's cell phone...</td>\n",
       "    </tr>\n",
       "    <tr>\n",
       "      <th>2</th>\n",
       "      <td>2</td>\n",
       "      <td>5</td>\n",
       "      <td>Excellent advice, and very well written</td>\n",
       "      <td>I've read this book cover-to-cover twice as I ...</td>\n",
       "    </tr>\n",
       "    <tr>\n",
       "      <th>3</th>\n",
       "      <td>3</td>\n",
       "      <td>1</td>\n",
       "      <td>Horrible, Horrible, Horrible!</td>\n",
       "      <td>The dialogue is so bad that you will feel dumb...</td>\n",
       "    </tr>\n",
       "    <tr>\n",
       "      <th>4</th>\n",
       "      <td>4</td>\n",
       "      <td>1</td>\n",
       "      <td>Don't get ripped off</td>\n",
       "      <td>Well...I have only one thing to say about this...</td>\n",
       "    </tr>\n",
       "  </tbody>\n",
       "</table>\n",
       "</div>"
      ],
      "text/plain": [
       "   Unnamed: 0.1  Rating                                      Title  \\\n",
       "0             0       4                      Raspberries are Magic   \n",
       "1             1       1  Road Warrior defeated in less than 1 year   \n",
       "2             2       5    Excellent advice, and very well written   \n",
       "3             3       1              Horrible, Horrible, Horrible!   \n",
       "4             4       1                       Don't get ripped off   \n",
       "\n",
       "                                              Review  \n",
       "0  Excellent family film for all ages! You can't ...  \n",
       "1  I bought this battery for my wife's cell phone...  \n",
       "2  I've read this book cover-to-cover twice as I ...  \n",
       "3  The dialogue is so bad that you will feel dumb...  \n",
       "4  Well...I have only one thing to say about this...  "
      ]
     },
     "metadata": {},
     "output_type": "display_data"
    },
    {
     "name": "stdout",
     "output_type": "stream",
     "text": [
      "<class 'pandas.core.frame.DataFrame'>\n",
      "RangeIndex: 50000 entries, 0 to 49999\n",
      "Data columns (total 4 columns):\n",
      " #   Column        Non-Null Count  Dtype \n",
      "---  ------        --------------  ----- \n",
      " 0   Unnamed: 0.1  50000 non-null  int64 \n",
      " 1   Rating        50000 non-null  int64 \n",
      " 2   Title         49996 non-null  object\n",
      " 3   Review        50000 non-null  object\n",
      "dtypes: int64(2), object(2)\n",
      "memory usage: 1.5+ MB\n"
     ]
    },
    {
     "data": {
      "text/plain": [
       "None"
      ]
     },
     "metadata": {},
     "output_type": "display_data"
    },
    {
     "data": {
      "text/html": [
       "<div>\n",
       "<style scoped>\n",
       "    .dataframe tbody tr th:only-of-type {\n",
       "        vertical-align: middle;\n",
       "    }\n",
       "\n",
       "    .dataframe tbody tr th {\n",
       "        vertical-align: top;\n",
       "    }\n",
       "\n",
       "    .dataframe thead th {\n",
       "        text-align: right;\n",
       "    }\n",
       "</style>\n",
       "<table border=\"1\" class=\"dataframe\">\n",
       "  <thead>\n",
       "    <tr style=\"text-align: right;\">\n",
       "      <th></th>\n",
       "      <th>Unnamed: 0.1</th>\n",
       "      <th>Rating</th>\n",
       "    </tr>\n",
       "  </thead>\n",
       "  <tbody>\n",
       "    <tr>\n",
       "      <th>count</th>\n",
       "      <td>50000.000000</td>\n",
       "      <td>50000.000000</td>\n",
       "    </tr>\n",
       "    <tr>\n",
       "      <th>mean</th>\n",
       "      <td>24999.500000</td>\n",
       "      <td>3.002800</td>\n",
       "    </tr>\n",
       "    <tr>\n",
       "      <th>std</th>\n",
       "      <td>14433.901067</td>\n",
       "      <td>1.415285</td>\n",
       "    </tr>\n",
       "    <tr>\n",
       "      <th>min</th>\n",
       "      <td>0.000000</td>\n",
       "      <td>1.000000</td>\n",
       "    </tr>\n",
       "    <tr>\n",
       "      <th>25%</th>\n",
       "      <td>12499.750000</td>\n",
       "      <td>2.000000</td>\n",
       "    </tr>\n",
       "    <tr>\n",
       "      <th>50%</th>\n",
       "      <td>24999.500000</td>\n",
       "      <td>3.000000</td>\n",
       "    </tr>\n",
       "    <tr>\n",
       "      <th>75%</th>\n",
       "      <td>37499.250000</td>\n",
       "      <td>4.000000</td>\n",
       "    </tr>\n",
       "    <tr>\n",
       "      <th>max</th>\n",
       "      <td>49999.000000</td>\n",
       "      <td>5.000000</td>\n",
       "    </tr>\n",
       "  </tbody>\n",
       "</table>\n",
       "</div>"
      ],
      "text/plain": [
       "       Unnamed: 0.1        Rating\n",
       "count  50000.000000  50000.000000\n",
       "mean   24999.500000      3.002800\n",
       "std    14433.901067      1.415285\n",
       "min        0.000000      1.000000\n",
       "25%    12499.750000      2.000000\n",
       "50%    24999.500000      3.000000\n",
       "75%    37499.250000      4.000000\n",
       "max    49999.000000      5.000000"
      ]
     },
     "metadata": {},
     "output_type": "display_data"
    }
   ],
   "source": [
    "display(df.head())\n",
    "display(df.info())\n",
    "display(df.describe())"
   ]
  },
  {
   "cell_type": "code",
   "execution_count": 5,
   "id": "99d51958-ec31-4f30-b5cc-193a9db23395",
   "metadata": {},
   "outputs": [
    {
     "data": {
      "image/png": "[encoded data removed]",
      "text/plain": [
       "<Figure size 640x480 with 1 Axes>"
      ]
     },
     "metadata": {},
     "output_type": "display_data"
    }
   ],
   "source": [
    "sns.barplot(df['Rating'].value_counts())\n",
    "plt.show()"
   ]
  },
  {
   "cell_type": "markdown",
   "id": "b3613e20-ee57-46a6-97f5-938aa8a03d2c",
   "metadata": {},
   "source": [
    "## NLP"
   ]
  },
  {
   "cell_type": "markdown",
   "id": "f9fd7682-1a1a-43a1-919f-31928311ca51",
   "metadata": {},
   "source": [
    "##### first we will do some cleaining on a random sample and after we are done we will throw all of the data to the preprocessing functions"
   ]
  },
  {
   "cell_type": "markdown",
   "id": "b16c67a9-5b78-4903-b24b-5060536b44af",
   "metadata": {},
   "source": [
    "#### random sample"
   ]
  },
  {
   "cell_type": "code",
   "execution_count": 6,
   "id": "f6da2bd9-8009-4a5a-8938-3ed9fd940ac5",
   "metadata": {},
   "outputs": [
    {
     "name": "stdout",
     "output_type": "stream",
     "text": [
      "Just OK\n",
      "This book is an easy read, but each of the five love languages could be summed up in a page or two instead of a chapter each. Once you read what the languages are and think about them, you are done.\n",
      "3\n"
     ]
    }
   ],
   "source": [
    "review = df['Review'][500]\n",
    "rating = df['Rating'][500]\n",
    "title = df['Title'][500]\n",
    "print(title)\n",
    "print(review)\n",
    "print(rating)"
   ]
  },
  {
   "cell_type": "markdown",
   "id": "4cb882eb-6b37-476e-8bec-8eef4d794012",
   "metadata": {},
   "source": [
    "#### removing punktioations"
   ]
  },
  {
   "cell_type": "code",
   "execution_count": 7,
   "id": "e3f7dedd-ef21-4634-9ea4-78d794e95648",
   "metadata": {},
   "outputs": [
    {
     "name": "stdout",
     "output_type": "stream",
     "text": [
      "this book is an easy read  but each of the five love languages could be summed up in a page or two instead of a chapter each  once you read what the languages are and think about them  you are done \n"
     ]
    }
   ],
   "source": [
    "text = re.sub('[^a-zA-Z]', ' ', review.lower())\n",
    "print(text)"
   ]
  },
  {
   "cell_type": "markdown",
   "id": "bd279d1e-47bb-4a42-b40d-7d01e86b7168",
   "metadata": {},
   "source": [
    "#### tokenizing"
   ]
  },
  {
   "cell_type": "code",
   "execution_count": 8,
   "id": "f4a447b9-2a18-41be-b34a-1fd582752ef9",
   "metadata": {},
   "outputs": [
    {
     "name": "stdout",
     "output_type": "stream",
     "text": [
      "['this', 'book', 'is', 'an', 'easy', 'read', 'but', 'each', 'of', 'the', 'five', 'love', 'languages', 'could', 'be', 'summed', 'up', 'in', 'a', 'page', 'or', 'two', 'instead', 'of', 'a', 'chapter', 'each', 'once', 'you', 'read', 'what', 'the', 'languages', 'are', 'and', 'think', 'about', 'them', 'you', 'are', 'done']\n"
     ]
    }
   ],
   "source": [
    "tokenized = nltk.word_tokenize(text)\n",
    "print(tokenized)"
   ]
  },
  {
   "cell_type": "markdown",
   "id": "1c93d9e6-7cef-4498-80e7-5111e978dd98",
   "metadata": {},
   "source": [
    "#### removing stop words"
   ]
  },
  {
   "cell_type": "code",
   "execution_count": 9,
   "id": "4c40a05f-2d84-49f8-92ea-55e9954a84ac",
   "metadata": {},
   "outputs": [
    {
     "name": "stdout",
     "output_type": "stream",
     "text": [
      "['book', 'easy', 'read', 'five', 'love', 'languages', 'could', 'summed', 'page', 'two', 'instead', 'chapter', 'read', 'languages', 'think', 'done']\n"
     ]
    }
   ],
   "source": [
    "extracted = [word for word in tokenized if word not in stopwords.words('english')]\n",
    "print(extracted)"
   ]
  },
  {
   "cell_type": "markdown",
   "id": "1bf0004b-262f-4fe7-aed0-6299e59659c3",
   "metadata": {},
   "source": [
    "#### stemming"
   ]
  },
  {
   "cell_type": "code",
   "execution_count": 10,
   "id": "995ffd7e-4e2e-4c2e-9cb1-026c0c38900b",
   "metadata": {},
   "outputs": [],
   "source": [
    "stemmer = SnowballStemmer('english')"
   ]
  },
  {
   "cell_type": "code",
   "execution_count": 11,
   "id": "f085ea1f-bc01-4771-8d79-ebc30d24d3bc",
   "metadata": {},
   "outputs": [
    {
     "name": "stdout",
     "output_type": "stream",
     "text": [
      "['book', 'easi', 'read', 'five', 'love', 'languag', 'could', 'sum', 'page', 'two', 'instead', 'chapter', 'read', 'languag', 'think', 'done']\n"
     ]
    }
   ],
   "source": [
    "stemmed_words = [stemmer.stem(word) for word in extracted]\n",
    "print(stemmed_words)"
   ]
  },
  {
   "cell_type": "markdown",
   "id": "398e208e-2b72-4eaf-a4b7-f5aefb909e13",
   "metadata": {},
   "source": [
    "#### rejoining the review inside of a string instead of a list"
   ]
  },
  {
   "cell_type": "code",
   "execution_count": 12,
   "id": "f0cd7272-c0c4-42ab-9c83-8dfc859378d4",
   "metadata": {},
   "outputs": [
    {
     "data": {
      "text/plain": [
       "'book easi read five love languag could sum page two instead chapter read languag think done'"
      ]
     },
     "execution_count": 12,
     "metadata": {},
     "output_type": "execute_result"
    }
   ],
   "source": [
    "review = ' '.join(stemmed_words)\n",
    "review"
   ]
  },
  {
   "cell_type": "markdown",
   "id": "a74bab78-1fd7-44b9-ad0e-354edf7c111e",
   "metadata": {},
   "source": [
    "#### doing all steps to all of the data"
   ]
  },
  {
   "cell_type": "code",
   "execution_count": 13,
   "id": "78c57fd6-f48e-4705-b632-6d85a76fa15c",
   "metadata": {},
   "outputs": [],
   "source": [
    "def nlp_functions(content):\n",
    "    review = re.sub('[^a-zA-Z]', ' ', content.lower())\n",
    "    review = nltk.word_tokenize(review)\n",
    "    review = [word for word in review if word not in stopwords.words('english')]\n",
    "    review = [stemmer.stem(word) for word in review]\n",
    "    review = ' '.join(review)\n",
    "    return review"
   ]
  },
  {
   "cell_type": "code",
   "execution_count": 14,
   "id": "f8f6901e-14ce-4a10-80eb-4c48ff06e759",
   "metadata": {},
   "outputs": [],
   "source": [
    "df['stemmed_content'] = df['Review'].apply(nlp_functions)"
   ]
  },
  {
   "cell_type": "code",
   "execution_count": 15,
   "id": "9dea0f18-e67c-4034-b7b9-49961b87b3e7",
   "metadata": {},
   "outputs": [],
   "source": [
    "df.to_csv('clean_reviews_data_50k.csv', index=False)"
   ]
  }
 ],
 "metadata": {
  "kernelspec": {
   "display_name": "Python 3 (ipykernel)",
   "language": "python",
   "name": "python3"
  },
  "language_info": {
   "codemirror_mode": {
    "name": "ipython",
    "version": 3
   },
   "file_extension": ".py",
   "mimetype": "text/x-python",
   "name": "python",
   "nbconvert_exporter": "python",
   "pygments_lexer": "ipython3",
   "version": "3.11.5"
  }
 },
 "nbformat": 4,
 "nbformat_minor": 5
}
