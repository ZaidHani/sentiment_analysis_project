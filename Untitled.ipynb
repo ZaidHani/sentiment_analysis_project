{
 "cells": [
  {
   "cell_type": "code",
   "execution_count": 1,
   "id": "0374b570-2ec1-4f47-a298-ad95a586f87c",
   "metadata": {},
   "outputs": [],
   "source": [
    "# the data\n",
    "# https://www.kaggle.com/datasets/akshatshaw7/moives-dataset\n",
    "# https://www.kaggle.com/datasets/bittlingmayer/amazonreviews"
   ]
  },
  {
   "cell_type": "markdown",
   "id": "41df5568-4597-420b-943e-7a947c0a447d",
   "metadata": {},
   "source": [
    "## importing libraries"
   ]
  },
  {
   "cell_type": "code",
   "execution_count": 2,
   "id": "21f03ddc-4248-4f19-b84f-13904b9a9202",
   "metadata": {},
   "outputs": [],
   "source": [
    "import pandas as pd\n",
    "import numpy as np\n",
    "import seaborn as sns\n",
    "import matplotlib.pyplot as plt\n",
    "\n",
    "import random\n",
    "import re\n",
    "import string\n",
    "import pickle\n",
    "\n",
    "from nltk.corpus import stopwords\n",
    "import nltk\n",
    "from nltk.stem import SnowballStemmer,WordNetLemmatizer, PorterStemmer\n",
    "\n",
    "from sklearn.feature_extraction.text import CountVectorizer, TfidfVectorizer\n",
    "from sklearn.model_selection import train_test_split\n",
    "from sklearn.naive_bayes import MultinomialNB\n",
    "from sklearn.metrics import confusion_matrix, accuracy_score"
   ]
  },
  {
   "cell_type": "markdown",
   "id": "296377e7-f018-4bcc-8b3f-26ca598ba449",
   "metadata": {},
   "source": [
    "## fetching the data"
   ]
  },
  {
   "cell_type": "code",
   "execution_count": 3,
   "id": "96fdc6f9-7e08-43cf-806b-544df45b2c38",
   "metadata": {},
   "outputs": [],
   "source": [
    "df = pd.read_csv('amazon_reviews.csv')\n",
    "# when you have a strong pc delete the line below\n",
    "df = df.sample(50_000, ignore_index=True)"
   ]
  },
  {
   "cell_type": "markdown",
   "id": "1b7f637e-a257-49fb-9369-ddd083c2594d",
   "metadata": {},
   "source": [
    "#### some info about the data"
   ]
  },
  {
   "cell_type": "code",
   "execution_count": 4,
   "id": "a027367e-9ba3-4681-957d-3cba6429919e",
   "metadata": {},
   "outputs": [
    {
     "data": {
      "text/html": [
       "<div>\n",
       "<style scoped>\n",
       "    .dataframe tbody tr th:only-of-type {\n",
       "        vertical-align: middle;\n",
       "    }\n",
       "\n",
       "    .dataframe tbody tr th {\n",
       "        vertical-align: top;\n",
       "    }\n",
       "\n",
       "    .dataframe thead th {\n",
       "        text-align: right;\n",
       "    }\n",
       "</style>\n",
       "<table border=\"1\" class=\"dataframe\">\n",
       "  <thead>\n",
       "    <tr style=\"text-align: right;\">\n",
       "      <th></th>\n",
       "      <th>Unnamed: 0</th>\n",
       "      <th>Rating</th>\n",
       "      <th>Title</th>\n",
       "      <th>Review</th>\n",
       "    </tr>\n",
       "  </thead>\n",
       "  <tbody>\n",
       "    <tr>\n",
       "      <th>0</th>\n",
       "      <td>2154757</td>\n",
       "      <td>4</td>\n",
       "      <td>Targeted Workout</td>\n",
       "      <td>I recently purchased several Firm DVDs and thi...</td>\n",
       "    </tr>\n",
       "    <tr>\n",
       "      <th>1</th>\n",
       "      <td>3262219</td>\n",
       "      <td>4</td>\n",
       "      <td>A must have</td>\n",
       "      <td>Our old smoke alarm went off and we called the...</td>\n",
       "    </tr>\n",
       "    <tr>\n",
       "      <th>2</th>\n",
       "      <td>1844262</td>\n",
       "      <td>2</td>\n",
       "      <td>Could be better....</td>\n",
       "      <td>As was indicated in several other reviews this...</td>\n",
       "    </tr>\n",
       "    <tr>\n",
       "      <th>3</th>\n",
       "      <td>2134563</td>\n",
       "      <td>5</td>\n",
       "      <td>Bracelet just lovely</td>\n",
       "      <td>I just had this bracelet delivered on Jan. 31s...</td>\n",
       "    </tr>\n",
       "    <tr>\n",
       "      <th>4</th>\n",
       "      <td>234965</td>\n",
       "      <td>2</td>\n",
       "      <td>Gray/Green Color Option Does Not Have Gray Colors</td>\n",
       "      <td>If the colors are important to you, note that ...</td>\n",
       "    </tr>\n",
       "  </tbody>\n",
       "</table>\n",
       "</div>"
      ],
      "text/plain": [
       "   Unnamed: 0  Rating                                              Title  \\\n",
       "0     2154757       4                                   Targeted Workout   \n",
       "1     3262219       4                                        A must have   \n",
       "2     1844262       2                                Could be better....   \n",
       "3     2134563       5                               Bracelet just lovely   \n",
       "4      234965       2  Gray/Green Color Option Does Not Have Gray Colors   \n",
       "\n",
       "                                              Review  \n",
       "0  I recently purchased several Firm DVDs and thi...  \n",
       "1  Our old smoke alarm went off and we called the...  \n",
       "2  As was indicated in several other reviews this...  \n",
       "3  I just had this bracelet delivered on Jan. 31s...  \n",
       "4  If the colors are important to you, note that ...  "
      ]
     },
     "metadata": {},
     "output_type": "display_data"
    },
    {
     "name": "stdout",
     "output_type": "stream",
     "text": [
      "<class 'pandas.core.frame.DataFrame'>\n",
      "RangeIndex: 50000 entries, 0 to 49999\n",
      "Data columns (total 4 columns):\n",
      " #   Column      Non-Null Count  Dtype \n",
      "---  ------      --------------  ----- \n",
      " 0   Unnamed: 0  50000 non-null  int64 \n",
      " 1   Rating      50000 non-null  int64 \n",
      " 2   Title       49998 non-null  object\n",
      " 3   Review      50000 non-null  object\n",
      "dtypes: int64(2), object(2)\n",
      "memory usage: 1.5+ MB\n"
     ]
    },
    {
     "data": {
      "text/plain": [
       "None"
      ]
     },
     "metadata": {},
     "output_type": "display_data"
    },
    {
     "data": {
      "text/html": [
       "<div>\n",
       "<style scoped>\n",
       "    .dataframe tbody tr th:only-of-type {\n",
       "        vertical-align: middle;\n",
       "    }\n",
       "\n",
       "    .dataframe tbody tr th {\n",
       "        vertical-align: top;\n",
       "    }\n",
       "\n",
       "    .dataframe thead th {\n",
       "        text-align: right;\n",
       "    }\n",
       "</style>\n",
       "<table border=\"1\" class=\"dataframe\">\n",
       "  <thead>\n",
       "    <tr style=\"text-align: right;\">\n",
       "      <th></th>\n",
       "      <th>Unnamed: 0</th>\n",
       "      <th>Rating</th>\n",
       "    </tr>\n",
       "  </thead>\n",
       "  <tbody>\n",
       "    <tr>\n",
       "      <th>count</th>\n",
       "      <td>5.000000e+04</td>\n",
       "      <td>50000.000000</td>\n",
       "    </tr>\n",
       "    <tr>\n",
       "      <th>mean</th>\n",
       "      <td>1.822723e+06</td>\n",
       "      <td>3.001040</td>\n",
       "    </tr>\n",
       "    <tr>\n",
       "      <th>std</th>\n",
       "      <td>1.057459e+06</td>\n",
       "      <td>1.415401</td>\n",
       "    </tr>\n",
       "    <tr>\n",
       "      <th>min</th>\n",
       "      <td>1.000000e+00</td>\n",
       "      <td>1.000000</td>\n",
       "    </tr>\n",
       "    <tr>\n",
       "      <th>25%</th>\n",
       "      <td>9.049992e+05</td>\n",
       "      <td>2.000000</td>\n",
       "    </tr>\n",
       "    <tr>\n",
       "      <th>50%</th>\n",
       "      <td>1.820648e+06</td>\n",
       "      <td>3.000000</td>\n",
       "    </tr>\n",
       "    <tr>\n",
       "      <th>75%</th>\n",
       "      <td>2.737572e+06</td>\n",
       "      <td>4.000000</td>\n",
       "    </tr>\n",
       "    <tr>\n",
       "      <th>max</th>\n",
       "      <td>3.649967e+06</td>\n",
       "      <td>5.000000</td>\n",
       "    </tr>\n",
       "  </tbody>\n",
       "</table>\n",
       "</div>"
      ],
      "text/plain": [
       "         Unnamed: 0        Rating\n",
       "count  5.000000e+04  50000.000000\n",
       "mean   1.822723e+06      3.001040\n",
       "std    1.057459e+06      1.415401\n",
       "min    1.000000e+00      1.000000\n",
       "25%    9.049992e+05      2.000000\n",
       "50%    1.820648e+06      3.000000\n",
       "75%    2.737572e+06      4.000000\n",
       "max    3.649967e+06      5.000000"
      ]
     },
     "metadata": {},
     "output_type": "display_data"
    }
   ],
   "source": [
    "display(df.head())\n",
    "display(df.info())\n",
    "display(df.describe())"
   ]
  },
  {
   "cell_type": "code",
   "execution_count": 5,
   "id": "99d51958-ec31-4f30-b5cc-193a9db23395",
   "metadata": {},
   "outputs": [
    {
     "data": {
      "image/png": "[encoded data removed]",
      "text/plain": [
       "<Figure size 640x480 with 1 Axes>"
      ]
     },
     "metadata": {},
     "output_type": "display_data"
    }
   ],
   "source": [
    "sns.barplot(df['Rating'].value_counts())\n",
    "plt.show()"
   ]
  },
  {
   "cell_type": "markdown",
   "id": "b3613e20-ee57-46a6-97f5-938aa8a03d2c",
   "metadata": {},
   "source": [
    "## NLP"
   ]
  },
  {
   "cell_type": "markdown",
   "id": "f9fd7682-1a1a-43a1-919f-31928311ca51",
   "metadata": {},
   "source": [
    "##### first we will do some cleaining on a random sample and after we are done we will throw all of the data to the preprocessing functions"
   ]
  },
  {
   "cell_type": "markdown",
   "id": "b16c67a9-5b78-4903-b24b-5060536b44af",
   "metadata": {},
   "source": [
    "#### random sample"
   ]
  },
  {
   "cell_type": "code",
   "execution_count": 6,
   "id": "f6da2bd9-8009-4a5a-8938-3ed9fd940ac5",
   "metadata": {},
   "outputs": [
    {
     "name": "stdout",
     "output_type": "stream",
     "text": [
      "A little disappointing\n",
      "Perhaps this book is a good resource for kids six and under, but my kids (ages 4, 6, 7, and 9) found it less enthralling than many other resources we have used. It gives adequate and comprehensive coverage of the historical period, but lacks meat, isn't a particularly engaging book. I have been somewhat of a fan of Susan Wise Bauer, but found this book disappointing.\n",
      "3\n"
     ]
    }
   ],
   "source": [
    "review = df['Review'][500]\n",
    "rating = df['Rating'][500]\n",
    "title = df['Title'][500]\n",
    "print(title)\n",
    "print(review)\n",
    "print(rating)"
   ]
  },
  {
   "cell_type": "markdown",
   "id": "4cb882eb-6b37-476e-8bec-8eef4d794012",
   "metadata": {},
   "source": [
    "#### removing punktioations"
   ]
  },
  {
   "cell_type": "code",
   "execution_count": 7,
   "id": "e3f7dedd-ef21-4634-9ea4-78d794e95648",
   "metadata": {},
   "outputs": [
    {
     "name": "stdout",
     "output_type": "stream",
     "text": [
      "perhaps this book is a good resource for kids six and under  but my kids  ages          and    found it less enthralling than many other resources we have used  it gives adequate and comprehensive coverage of the historical period  but lacks meat  isn t a particularly engaging book  i have been somewhat of a fan of susan wise bauer  but found this book disappointing \n"
     ]
    }
   ],
   "source": [
    "text = re.sub('[^a-zA-Z]', ' ', review.lower())\n",
    "print(text)"
   ]
  },
  {
   "cell_type": "markdown",
   "id": "bd279d1e-47bb-4a42-b40d-7d01e86b7168",
   "metadata": {},
   "source": [
    "#### tokenizing"
   ]
  },
  {
   "cell_type": "code",
   "execution_count": 8,
   "id": "f4a447b9-2a18-41be-b34a-1fd582752ef9",
   "metadata": {},
   "outputs": [
    {
     "name": "stdout",
     "output_type": "stream",
     "text": [
      "['perhaps', 'this', 'book', 'is', 'a', 'good', 'resource', 'for', 'kids', 'six', 'and', 'under', 'but', 'my', 'kids', 'ages', 'and', 'found', 'it', 'less', 'enthralling', 'than', 'many', 'other', 'resources', 'we', 'have', 'used', 'it', 'gives', 'adequate', 'and', 'comprehensive', 'coverage', 'of', 'the', 'historical', 'period', 'but', 'lacks', 'meat', 'isn', 't', 'a', 'particularly', 'engaging', 'book', 'i', 'have', 'been', 'somewhat', 'of', 'a', 'fan', 'of', 'susan', 'wise', 'bauer', 'but', 'found', 'this', 'book', 'disappointing']\n"
     ]
    }
   ],
   "source": [
    "tokenized = nltk.word_tokenize(text)\n",
    "print(tokenized)"
   ]
  },
  {
   "cell_type": "markdown",
   "id": "1c93d9e6-7cef-4498-80e7-5111e978dd98",
   "metadata": {},
   "source": [
    "#### removing stop words"
   ]
  },
  {
   "cell_type": "code",
   "execution_count": 9,
   "id": "4c40a05f-2d84-49f8-92ea-55e9954a84ac",
   "metadata": {},
   "outputs": [
    {
     "name": "stdout",
     "output_type": "stream",
     "text": [
      "['perhaps', 'book', 'good', 'resource', 'kids', 'six', 'kids', 'ages', 'found', 'less', 'enthralling', 'many', 'resources', 'used', 'gives', 'adequate', 'comprehensive', 'coverage', 'historical', 'period', 'lacks', 'meat', 'particularly', 'engaging', 'book', 'somewhat', 'fan', 'susan', 'wise', 'bauer', 'found', 'book', 'disappointing']\n"
     ]
    }
   ],
   "source": [
    "extracted = [word for word in tokenized if word not in stopwords.words('english')]\n",
    "print(extracted)"
   ]
  },
  {
   "cell_type": "markdown",
   "id": "1bf0004b-262f-4fe7-aed0-6299e59659c3",
   "metadata": {},
   "source": [
    "#### stemming"
   ]
  },
  {
   "cell_type": "code",
   "execution_count": 10,
   "id": "995ffd7e-4e2e-4c2e-9cb1-026c0c38900b",
   "metadata": {},
   "outputs": [],
   "source": [
    "stemmer = SnowballStemmer('english')"
   ]
  },
  {
   "cell_type": "code",
   "execution_count": 11,
   "id": "f085ea1f-bc01-4771-8d79-ebc30d24d3bc",
   "metadata": {},
   "outputs": [
    {
     "name": "stdout",
     "output_type": "stream",
     "text": [
      "['perhap', 'book', 'good', 'resourc', 'kid', 'six', 'kid', 'age', 'found', 'less', 'enthral', 'mani', 'resourc', 'use', 'give', 'adequ', 'comprehens', 'coverag', 'histor', 'period', 'lack', 'meat', 'particular', 'engag', 'book', 'somewhat', 'fan', 'susan', 'wise', 'bauer', 'found', 'book', 'disappoint']\n"
     ]
    }
   ],
   "source": [
    "stemmed_words = [stemmer.stem(word) for word in extracted]\n",
    "print(stemmed_words)"
   ]
  },
  {
   "cell_type": "markdown",
   "id": "398e208e-2b72-4eaf-a4b7-f5aefb909e13",
   "metadata": {},
   "source": [
    "#### rejoining the review inside of a string instead of a list"
   ]
  },
  {
   "cell_type": "code",
   "execution_count": 12,
   "id": "f0cd7272-c0c4-42ab-9c83-8dfc859378d4",
   "metadata": {},
   "outputs": [
    {
     "data": {
      "text/plain": [
       "'perhap book good resourc kid six kid age found less enthral mani resourc use give adequ comprehens coverag histor period lack meat particular engag book somewhat fan susan wise bauer found book disappoint'"
      ]
     },
     "execution_count": 12,
     "metadata": {},
     "output_type": "execute_result"
    }
   ],
   "source": [
    "review = ' '.join(stemmed_words)\n",
    "review"
   ]
  },
  {
   "cell_type": "markdown",
   "id": "a74bab78-1fd7-44b9-ad0e-354edf7c111e",
   "metadata": {},
   "source": [
    "#### doing all steps to all of the data"
   ]
  },
  {
   "cell_type": "code",
   "execution_count": 13,
   "id": "78c57fd6-f48e-4705-b632-6d85a76fa15c",
   "metadata": {},
   "outputs": [],
   "source": [
    "def nlp_functions(content):\n",
    "    review = re.sub('[^a-zA-Z]', ' ', content.lower())\n",
    "    review = nltk.word_tokenize(review)\n",
    "    review = [word for word in review if word not in stopwords.words('english')]\n",
    "    review = [stemmer.stem(word) for word in review]\n",
    "    review = ' '.join(review)\n",
    "    return review"
   ]
  },
  {
   "cell_type": "code",
   "execution_count": null,
   "id": "f8f6901e-14ce-4a10-80eb-4c48ff06e759",
   "metadata": {},
   "outputs": [],
   "source": [
    "df['stemmed_content'] = df['Review'].apply(nlp_functions)"
   ]
  },
  {
   "cell_type": "markdown",
   "id": "537c1974-9867-408a-bb2f-d440e38f5ef8",
   "metadata": {},
   "source": [
    "## machine learning"
   ]
  },
  {
   "cell_type": "markdown",
   "id": "66cf8861-1b0d-4612-80fe-a897c2a0ef39",
   "metadata": {},
   "source": [
    "#### putting the reviews inside a bag of words"
   ]
  },
  {
   "cell_type": "code",
   "execution_count": null,
   "id": "c31e9333-3de1-48ea-af42-373fa48f48a6",
   "metadata": {},
   "outputs": [],
   "source": [
    "cv = CountVectorizer()\n",
    "bow = cv.fit_transform(df['stemmed_content']).astype('int8').toarray()"
   ]
  },
  {
   "cell_type": "markdown",
   "id": "c42e75f0-294e-46d1-95ec-f164f55e119c",
   "metadata": {},
   "source": [
    "#### splitting an x and a y"
   ]
  },
  {
   "cell_type": "code",
   "execution_count": null,
   "id": "2f0ef4f3-b561-4ab3-9659-392cfeea0d9c",
   "metadata": {},
   "outputs": [],
   "source": [
    "x = pd.DataFrame(bow)\n",
    "y = df['Rating']"
   ]
  },
  {
   "cell_type": "code",
   "execution_count": null,
   "id": "5fd7c0dd-1e0c-4c6f-893d-58b251f8c2d4",
   "metadata": {},
   "outputs": [],
   "source": [
    "x_train, x_test, y_train, y_test = train_test_split(x, y)"
   ]
  },
  {
   "cell_type": "markdown",
   "id": "f1484c21-fb4f-4ebf-92e2-fcc3b5711af8",
   "metadata": {},
   "source": [
    "#### training the model"
   ]
  },
  {
   "cell_type": "code",
   "execution_count": null,
   "id": "f6c20484-1915-4c54-9493-200c1d733333",
   "metadata": {},
   "outputs": [],
   "source": [
    "nv = MultinomialNB()\n",
    "nv.fit(x_train.astype('int8'), y_train)"
   ]
  },
  {
   "cell_type": "markdown",
   "id": "56e11be3-99b7-48d2-a34a-bf4d20c72095",
   "metadata": {},
   "source": [
    "#### measuring metrics"
   ]
  },
  {
   "cell_type": "code",
   "execution_count": null,
   "id": "61bdaa8a-33c2-4dc1-b22c-1845d7d3f142",
   "metadata": {},
   "outputs": [],
   "source": [
    "y_pred = nv.predict(x_test)"
   ]
  },
  {
   "cell_type": "code",
   "execution_count": null,
   "id": "993e6e03-ba29-4758-8967-ac04cae9e515",
   "metadata": {},
   "outputs": [],
   "source": [
    "confusion_matrix(y_test, y_pred)"
   ]
  },
  {
   "cell_type": "code",
   "execution_count": null,
   "id": "b170e855-13e1-4550-9442-409ae57a41ac",
   "metadata": {},
   "outputs": [],
   "source": [
    "accuracy_score(y_test, y_pred)"
   ]
  },
  {
   "cell_type": "markdown",
   "id": "25986652-c3e5-4b72-a63a-ef934194a65d",
   "metadata": {},
   "source": [
    "#### saving the model"
   ]
  },
  {
   "cell_type": "code",
   "execution_count": null,
   "id": "2e9dfa7a-d3c0-4072-8b33-368768cbd293",
   "metadata": {},
   "outputs": [],
   "source": [
    "with open('model1.pkl', 'wb') as fout:\n",
    "    pickle.dump((cv, nv), fout)"
   ]
  },
  {
   "cell_type": "markdown",
   "id": "32f44b7a-f39f-4883-88b5-3f69dda67010",
   "metadata": {},
   "source": [
    "#### and now... for the real testing"
   ]
  },
  {
   "cell_type": "markdown",
   "id": "50764294-8ffd-4952-911b-6874c65fcd7a",
   "metadata": {},
   "source": [
    "##### load the model"
   ]
  },
  {
   "cell_type": "code",
   "execution_count": null,
   "id": "a8518e2e-8cc4-41c9-bbec-fbdd653f6574",
   "metadata": {},
   "outputs": [],
   "source": [
    "with open('model1.pkl', 'rb') as f:\n",
    "    cv, nv = pickle.load(f)"
   ]
  },
  {
   "cell_type": "markdown",
   "id": "392d4c78-5034-47c6-95c6-c825669202aa",
   "metadata": {},
   "source": [
    "##### testing the model"
   ]
  },
  {
   "cell_type": "code",
   "execution_count": null,
   "id": "428f1c8a-c8c9-4d1a-8cca-ba12150b02e7",
   "metadata": {},
   "outputs": [],
   "source": [
    "test_text = 'i like this very much'\n",
    "\n",
    "test = nlp_functions(test_text)\n",
    "test_bow = cv.transform([test]).toarray()\n",
    "nv.predict(test_bow)"
   ]
  },
  {
   "cell_type": "code",
   "execution_count": null,
   "id": "334058f6-ad0a-4f74-9ef4-f280f4dfad30",
   "metadata": {},
   "outputs": [],
   "source": []
  }
 ],
 "metadata": {
  "kernelspec": {
   "display_name": "Python 3 (ipykernel)",
   "language": "python",
   "name": "python3"
  },
  "language_info": {
   "codemirror_mode": {
    "name": "ipython",
    "version": 3
   },
   "file_extension": ".py",
   "mimetype": "text/x-python",
   "name": "python",
   "nbconvert_exporter": "python",
   "pygments_lexer": "ipython3",
   "version": "3.11.5"
  }
 },
 "nbformat": 4,
 "nbformat_minor": 5
}
